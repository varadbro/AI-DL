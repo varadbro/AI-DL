{
  "nbformat": 4,
  "nbformat_minor": 0,
  "metadata": {
    "colab": {
      "provenance": []
    },
    "kernelspec": {
      "name": "python3",
      "display_name": "Python 3"
    },
    "language_info": {
      "name": "python"
    }
  },
  "cells": [
    {
      "cell_type": "code",
      "source": [
        "N = 8"
      ],
      "metadata": {
        "id": "vF_I9UsxEN-M"
      },
      "execution_count": null,
      "outputs": []
    },
    {
      "cell_type": "code",
      "source": [
        "def solveNQueens(board,col):\n",
        "  if col == N :\n",
        "   print(board)\n",
        "   return True\n",
        "\n",
        "  for i in range(N):\n",
        "    if isSafe(board,i,col):\n",
        "     board[i][col] = 1\n",
        "     if solveNQueens(board,col+1):\n",
        "      return True\n",
        "    board[i][col] = 0\n",
        "  return False"
      ],
      "metadata": {
        "id": "WXY53z0WEhMS"
      },
      "execution_count": null,
      "outputs": []
    },
    {
      "cell_type": "code",
      "source": [
        "def isSafe(board, row, col):\n",
        "  for x in range (col):\n",
        "    if board[row][x] == 1:\n",
        "     return False\n",
        "  for x, y in zip(range(row, -1, -1), range(col, -1, -1)):\n",
        "    if board[x][y] == 1:\n",
        "        return False\n",
        "  for x, y in zip(range(row, N, 1), range(col, -1, -1)):\n",
        "      if board[x][y] == 1:\n",
        "        return False\n",
        "  return True\n",
        "  board = [[0 for x in range(N)] for y in range(N)]\n",
        "\n",
        "board = [[0 for x in range(N)] for y in range(N)]\n",
        "if not solveNQueens(board, 0):\n",
        "    print(\"No solution found\")"
      ],
      "metadata": {
        "colab": {
          "base_uri": "https://localhost:8080/"
        },
        "id": "mKsQsFKDGFdb",
        "outputId": "e945130c-41a7-46ab-c973-a15f496df837"
      },
      "execution_count": null,
      "outputs": [
        {
          "output_type": "stream",
          "name": "stdout",
          "text": [
            "[[1, 0, 0, 0, 0, 0, 0, 0], [0, 0, 0, 0, 0, 0, 1, 0], [0, 0, 0, 0, 1, 0, 0, 0], [0, 0, 0, 0, 0, 0, 0, 1], [0, 1, 0, 0, 0, 0, 0, 0], [0, 0, 0, 1, 0, 0, 0, 0], [0, 0, 0, 0, 0, 1, 0, 0], [0, 0, 1, 0, 0, 0, 0, 0]]\n"
          ]
        }
      ]
    },
    {
      "cell_type": "code",
      "source": [],
      "metadata": {
        "id": "LWAn-MSaKCW1"
      },
      "execution_count": null,
      "outputs": []
    }
  ]
}