{
  "nbformat": 4,
  "nbformat_minor": 0,
  "metadata": {
    "colab": {
      "provenance": []
    },
    "kernelspec": {
      "name": "python3",
      "display_name": "Python 3"
    },
    "language_info": {
      "name": "python"
    }
  },
  "cells": [
    {
      "cell_type": "code",
      "execution_count": null,
      "metadata": {
        "colab": {
          "base_uri": "https://localhost:8080/"
        },
        "collapsed": true,
        "id": "EB2DToPSJ_9-",
        "outputId": "478df3e0-669b-4139-b2ba-762f82d0f0d9"
      },
      "outputs": [
        {
          "output_type": "stream",
          "name": "stdout",
          "text": [
            "Reading package lists... Done\n",
            "Building dependency tree... Done\n",
            "Reading state information... Done\n",
            "The following additional packages will be installed:\n",
            "  autopoint debhelper debugedit dh-autoreconf dh-strip-nondeterminism dwz gettext gettext-base\n",
            "  intltool-debian libarchive-cpio-perl libarchive-zip-perl libdebhelper-perl\n",
            "  libfile-stripnondeterminism-perl libmail-sendmail-perl libossp-uuid16 libsub-override-perl\n",
            "  libsys-hostname-long-perl libtool po-debconf swi-prolog-core swi-prolog-core-packages\n",
            "  swi-prolog-doc swi-prolog-nox swi-prolog-x\n",
            "Suggested packages:\n",
            "  dh-make gettext-doc libasprintf-dev libgettextpo-dev uuid libtool-doc gcj-jdk libmail-box-perl\n",
            "  elpa-ediprolog swi-prolog-java swi-prolog-odbc swi-prolog-bdb\n",
            "The following NEW packages will be installed:\n",
            "  autopoint debhelper debugedit dh-autoreconf dh-strip-nondeterminism dwz gettext gettext-base\n",
            "  intltool-debian libarchive-cpio-perl libarchive-zip-perl libdebhelper-perl\n",
            "  libfile-stripnondeterminism-perl libmail-sendmail-perl libossp-uuid16 libsub-override-perl\n",
            "  libsys-hostname-long-perl libtool po-debconf swi-prolog swi-prolog-core swi-prolog-core-packages\n",
            "  swi-prolog-doc swi-prolog-nox swi-prolog-x\n",
            "0 upgraded, 25 newly installed, 0 to remove and 49 not upgraded.\n",
            "Need to get 9,926 kB of archives.\n",
            "After this operation, 42.3 MB of additional disk space will be used.\n",
            "Get:1 http://archive.ubuntu.com/ubuntu jammy/main amd64 gettext-base amd64 0.21-4ubuntu4 [37.8 kB]\n",
            "Get:2 http://archive.ubuntu.com/ubuntu jammy/main amd64 autopoint all 0.21-4ubuntu4 [422 kB]\n",
            "Get:3 http://archive.ubuntu.com/ubuntu jammy/main amd64 libdebhelper-perl all 13.6ubuntu1 [67.2 kB]\n",
            "Get:4 http://archive.ubuntu.com/ubuntu jammy/main amd64 libtool all 2.4.6-15build2 [164 kB]\n",
            "Get:5 http://archive.ubuntu.com/ubuntu jammy/main amd64 dh-autoreconf all 20 [16.1 kB]\n",
            "Get:6 http://archive.ubuntu.com/ubuntu jammy/main amd64 libarchive-zip-perl all 1.68-1 [90.2 kB]\n",
            "Get:7 http://archive.ubuntu.com/ubuntu jammy/main amd64 libsub-override-perl all 0.09-2 [9,532 B]\n",
            "Get:8 http://archive.ubuntu.com/ubuntu jammy/main amd64 libfile-stripnondeterminism-perl all 1.13.0-1 [18.1 kB]\n",
            "Get:9 http://archive.ubuntu.com/ubuntu jammy/main amd64 dh-strip-nondeterminism all 1.13.0-1 [5,344 B]\n",
            "Get:10 http://archive.ubuntu.com/ubuntu jammy/main amd64 debugedit amd64 1:5.0-4build1 [47.2 kB]\n",
            "Get:11 http://archive.ubuntu.com/ubuntu jammy/main amd64 dwz amd64 0.14-1build2 [105 kB]\n",
            "Get:12 http://archive.ubuntu.com/ubuntu jammy/main amd64 gettext amd64 0.21-4ubuntu4 [868 kB]\n",
            "Get:13 http://archive.ubuntu.com/ubuntu jammy/main amd64 intltool-debian all 0.35.0+20060710.5 [24.9 kB]\n",
            "Get:14 http://archive.ubuntu.com/ubuntu jammy/main amd64 po-debconf all 1.0.21+nmu1 [233 kB]\n",
            "Get:15 http://archive.ubuntu.com/ubuntu jammy/main amd64 debhelper all 13.6ubuntu1 [923 kB]\n",
            "Get:16 http://archive.ubuntu.com/ubuntu jammy/main amd64 libarchive-cpio-perl all 0.10-1.1 [9,928 B]\n",
            "Get:17 http://archive.ubuntu.com/ubuntu jammy/main amd64 libsys-hostname-long-perl all 1.5-2 [11.5 kB]\n",
            "Get:18 http://archive.ubuntu.com/ubuntu jammy/main amd64 libmail-sendmail-perl all 0.80-1.1 [22.7 kB]\n",
            "Get:19 http://archive.ubuntu.com/ubuntu jammy/universe amd64 libossp-uuid16 amd64 1.6.2-1.5build9 [31.4 kB]\n",
            "Get:20 http://archive.ubuntu.com/ubuntu jammy/universe amd64 swi-prolog-core amd64 8.4.2+dfsg-2ubuntu1 [1,493 kB]\n",
            "Get:21 http://archive.ubuntu.com/ubuntu jammy/universe amd64 swi-prolog-doc all 8.4.2+dfsg-2ubuntu1 [1,504 kB]\n",
            "Get:22 http://archive.ubuntu.com/ubuntu jammy/universe amd64 swi-prolog-core-packages amd64 8.4.2+dfsg-2ubuntu1 [1,335 kB]\n",
            "Get:23 http://archive.ubuntu.com/ubuntu jammy/universe amd64 swi-prolog-nox amd64 8.4.2+dfsg-2ubuntu1 [165 kB]\n",
            "Get:24 http://archive.ubuntu.com/ubuntu jammy/universe amd64 swi-prolog-x amd64 8.4.2+dfsg-2ubuntu1 [2,314 kB]\n",
            "Get:25 http://archive.ubuntu.com/ubuntu jammy/universe amd64 swi-prolog amd64 8.4.2+dfsg-2ubuntu1 [9,122 B]\n",
            "Fetched 9,926 kB in 1s (16.9 MB/s)\n",
            "Selecting previously unselected package gettext-base.\n",
            "(Reading database ... 123614 files and directories currently installed.)\n",
            "Preparing to unpack .../00-gettext-base_0.21-4ubuntu4_amd64.deb ...\n",
            "Unpacking gettext-base (0.21-4ubuntu4) ...\n",
            "Selecting previously unselected package autopoint.\n",
            "Preparing to unpack .../01-autopoint_0.21-4ubuntu4_all.deb ...\n",
            "Unpacking autopoint (0.21-4ubuntu4) ...\n",
            "Selecting previously unselected package libdebhelper-perl.\n",
            "Preparing to unpack .../02-libdebhelper-perl_13.6ubuntu1_all.deb ...\n",
            "Unpacking libdebhelper-perl (13.6ubuntu1) ...\n",
            "Selecting previously unselected package libtool.\n",
            "Preparing to unpack .../03-libtool_2.4.6-15build2_all.deb ...\n",
            "Unpacking libtool (2.4.6-15build2) ...\n",
            "Selecting previously unselected package dh-autoreconf.\n",
            "Preparing to unpack .../04-dh-autoreconf_20_all.deb ...\n",
            "Unpacking dh-autoreconf (20) ...\n",
            "Selecting previously unselected package libarchive-zip-perl.\n",
            "Preparing to unpack .../05-libarchive-zip-perl_1.68-1_all.deb ...\n",
            "Unpacking libarchive-zip-perl (1.68-1) ...\n",
            "Selecting previously unselected package libsub-override-perl.\n",
            "Preparing to unpack .../06-libsub-override-perl_0.09-2_all.deb ...\n",
            "Unpacking libsub-override-perl (0.09-2) ...\n",
            "Selecting previously unselected package libfile-stripnondeterminism-perl.\n",
            "Preparing to unpack .../07-libfile-stripnondeterminism-perl_1.13.0-1_all.deb ...\n",
            "Unpacking libfile-stripnondeterminism-perl (1.13.0-1) ...\n",
            "Selecting previously unselected package dh-strip-nondeterminism.\n",
            "Preparing to unpack .../08-dh-strip-nondeterminism_1.13.0-1_all.deb ...\n",
            "Unpacking dh-strip-nondeterminism (1.13.0-1) ...\n",
            "Selecting previously unselected package debugedit.\n",
            "Preparing to unpack .../09-debugedit_1%3a5.0-4build1_amd64.deb ...\n",
            "Unpacking debugedit (1:5.0-4build1) ...\n",
            "Selecting previously unselected package dwz.\n",
            "Preparing to unpack .../10-dwz_0.14-1build2_amd64.deb ...\n",
            "Unpacking dwz (0.14-1build2) ...\n",
            "Selecting previously unselected package gettext.\n",
            "Preparing to unpack .../11-gettext_0.21-4ubuntu4_amd64.deb ...\n",
            "Unpacking gettext (0.21-4ubuntu4) ...\n",
            "Selecting previously unselected package intltool-debian.\n",
            "Preparing to unpack .../12-intltool-debian_0.35.0+20060710.5_all.deb ...\n",
            "Unpacking intltool-debian (0.35.0+20060710.5) ...\n",
            "Selecting previously unselected package po-debconf.\n",
            "Preparing to unpack .../13-po-debconf_1.0.21+nmu1_all.deb ...\n",
            "Unpacking po-debconf (1.0.21+nmu1) ...\n",
            "Selecting previously unselected package debhelper.\n",
            "Preparing to unpack .../14-debhelper_13.6ubuntu1_all.deb ...\n",
            "Unpacking debhelper (13.6ubuntu1) ...\n",
            "Selecting previously unselected package libarchive-cpio-perl.\n",
            "Preparing to unpack .../15-libarchive-cpio-perl_0.10-1.1_all.deb ...\n",
            "Unpacking libarchive-cpio-perl (0.10-1.1) ...\n",
            "Selecting previously unselected package libsys-hostname-long-perl.\n",
            "Preparing to unpack .../16-libsys-hostname-long-perl_1.5-2_all.deb ...\n",
            "Unpacking libsys-hostname-long-perl (1.5-2) ...\n",
            "Selecting previously unselected package libmail-sendmail-perl.\n",
            "Preparing to unpack .../17-libmail-sendmail-perl_0.80-1.1_all.deb ...\n",
            "Unpacking libmail-sendmail-perl (0.80-1.1) ...\n",
            "Selecting previously unselected package libossp-uuid16:amd64.\n",
            "Preparing to unpack .../18-libossp-uuid16_1.6.2-1.5build9_amd64.deb ...\n",
            "Unpacking libossp-uuid16:amd64 (1.6.2-1.5build9) ...\n",
            "Selecting previously unselected package swi-prolog-core.\n",
            "Preparing to unpack .../19-swi-prolog-core_8.4.2+dfsg-2ubuntu1_amd64.deb ...\n",
            "Unpacking swi-prolog-core (8.4.2+dfsg-2ubuntu1) ...\n",
            "Selecting previously unselected package swi-prolog-doc.\n",
            "Preparing to unpack .../20-swi-prolog-doc_8.4.2+dfsg-2ubuntu1_all.deb ...\n",
            "Unpacking swi-prolog-doc (8.4.2+dfsg-2ubuntu1) ...\n",
            "Selecting previously unselected package swi-prolog-core-packages.\n",
            "Preparing to unpack .../21-swi-prolog-core-packages_8.4.2+dfsg-2ubuntu1_amd64.deb ...\n",
            "Unpacking swi-prolog-core-packages (8.4.2+dfsg-2ubuntu1) ...\n",
            "Selecting previously unselected package swi-prolog-nox.\n",
            "Preparing to unpack .../22-swi-prolog-nox_8.4.2+dfsg-2ubuntu1_amd64.deb ...\n",
            "Unpacking swi-prolog-nox (8.4.2+dfsg-2ubuntu1) ...\n",
            "Selecting previously unselected package swi-prolog-x.\n",
            "Preparing to unpack .../23-swi-prolog-x_8.4.2+dfsg-2ubuntu1_amd64.deb ...\n",
            "Unpacking swi-prolog-x (8.4.2+dfsg-2ubuntu1) ...\n",
            "Selecting previously unselected package swi-prolog.\n",
            "Preparing to unpack .../24-swi-prolog_8.4.2+dfsg-2ubuntu1_amd64.deb ...\n",
            "Unpacking swi-prolog (8.4.2+dfsg-2ubuntu1) ...\n",
            "Setting up libtool (2.4.6-15build2) ...\n",
            "Setting up libarchive-zip-perl (1.68-1) ...\n",
            "Setting up libdebhelper-perl (13.6ubuntu1) ...\n",
            "Setting up gettext-base (0.21-4ubuntu4) ...\n",
            "Setting up libossp-uuid16:amd64 (1.6.2-1.5build9) ...\n",
            "Setting up swi-prolog-core (8.4.2+dfsg-2ubuntu1) ...\n",
            "update-alternatives: using /usr/bin/swipl to provide /usr/bin/prolog (prolog) in auto mode\n",
            "Setting up autopoint (0.21-4ubuntu4) ...\n",
            "Setting up dwz (0.14-1build2) ...\n",
            "Setting up swi-prolog-core-packages (8.4.2+dfsg-2ubuntu1) ...\n",
            "Setting up libarchive-cpio-perl (0.10-1.1) ...\n",
            "Setting up debugedit (1:5.0-4build1) ...\n",
            "Setting up swi-prolog-nox (8.4.2+dfsg-2ubuntu1) ...\n",
            "Setting up libsub-override-perl (0.09-2) ...\n",
            "Setting up libsys-hostname-long-perl (1.5-2) ...\n",
            "Setting up libfile-stripnondeterminism-perl (1.13.0-1) ...\n",
            "Setting up swi-prolog-x (8.4.2+dfsg-2ubuntu1) ...\n",
            "Setting up gettext (0.21-4ubuntu4) ...\n",
            "Setting up swi-prolog-doc (8.4.2+dfsg-2ubuntu1) ...\n",
            "Setting up intltool-debian (0.35.0+20060710.5) ...\n",
            "Setting up dh-autoreconf (20) ...\n",
            "Setting up libmail-sendmail-perl (0.80-1.1) ...\n",
            "Setting up dh-strip-nondeterminism (1.13.0-1) ...\n",
            "Setting up swi-prolog (8.4.2+dfsg-2ubuntu1) ...\n",
            "Setting up po-debconf (1.0.21+nmu1) ...\n",
            "Setting up debhelper (13.6ubuntu1) ...\n",
            "Processing triggers for libc-bin (2.35-0ubuntu3.4) ...\n",
            "/sbin/ldconfig.real: /usr/local/lib/libtbbbind_2_5.so.3 is not a symbolic link\n",
            "\n",
            "/sbin/ldconfig.real: /usr/local/lib/libur_loader.so.0 is not a symbolic link\n",
            "\n",
            "/sbin/ldconfig.real: /usr/local/lib/libtbb.so.12 is not a symbolic link\n",
            "\n",
            "/sbin/ldconfig.real: /usr/local/lib/libtbbbind_2_0.so.3 is not a symbolic link\n",
            "\n",
            "/sbin/ldconfig.real: /usr/local/lib/libtbbmalloc.so.2 is not a symbolic link\n",
            "\n",
            "/sbin/ldconfig.real: /usr/local/lib/libtbbmalloc_proxy.so.2 is not a symbolic link\n",
            "\n",
            "/sbin/ldconfig.real: /usr/local/lib/libur_adapter_opencl.so.0 is not a symbolic link\n",
            "\n",
            "/sbin/ldconfig.real: /usr/local/lib/libtbbbind.so.3 is not a symbolic link\n",
            "\n",
            "/sbin/ldconfig.real: /usr/local/lib/libur_adapter_level_zero.so.0 is not a symbolic link\n",
            "\n",
            "Processing triggers for man-db (2.10.2-1) ...\n",
            "Collecting pyswip\n",
            "  Downloading pyswip-0.2.10-py2.py3-none-any.whl.metadata (12 kB)\n",
            "Downloading pyswip-0.2.10-py2.py3-none-any.whl (27 kB)\n",
            "Installing collected packages: pyswip\n",
            "Successfully installed pyswip-0.2.10\n"
          ]
        }
      ],
      "source": [
        "!apt-get install swi-prolog\n",
        "!pip install pyswip\n"
      ]
    },
    {
      "cell_type": "code",
      "source": [
        "from pyswip import Prolog\n",
        "\n",
        "prolog = Prolog()\n",
        "\n",
        "# Define gender facts (male and female)\n",
        "prolog.assertz(\"male(john)\")\n",
        "prolog.assertz(\"male(tom)\")\n",
        "prolog.assertz(\"male(lucas)\")\n",
        "prolog.assertz(\"female(mary)\")\n",
        "prolog.assertz(\"female(sarah)\")\n",
        "prolog.assertz(\"female(kate)\")\n",
        "prolog.assertz(\"female(lily)\")\n"
      ],
      "metadata": {
        "id": "5Qo_I3FlKOnn"
      },
      "execution_count": null,
      "outputs": []
    },
    {
      "cell_type": "code",
      "source": [
        "# Define family relationships (parent facts)\n",
        "prolog.assertz(\"parent(john, sarah)\")    # John is Sarah's parent\n",
        "prolog.assertz(\"parent(john, tom)\")      # John is Tom's parent\n",
        "prolog.assertz(\"parent(mary, sarah)\")    # Mary is Sarah's parent\n",
        "prolog.assertz(\"parent(mary, tom)\")      # Mary is Tom's parent\n",
        "prolog.assertz(\"parent(sarah, kate)\")    # Sarah is Kate's parent\n",
        "prolog.assertz(\"parent(sarah, lucas)\")   # Sarah is Lucas's parent\n",
        "prolog.assertz(\"parent(tom, lily)\")      # Tom is Lily's parent"
      ],
      "metadata": {
        "id": "9k7d-neCMHh3"
      },
      "execution_count": null,
      "outputs": []
    },
    {
      "cell_type": "code",
      "source": [
        "# Define rules for family relationships\n",
        "\n",
        "# Sibling rule: X and Y are siblings if they share the same parent\n",
        "prolog.assertz(\"sibling(X, Y) :- parent(P, X), parent(P, Y), X \\\\= Y\")\n",
        "\n",
        "# Grandparent rule: X is a grandparent of Y if X is a parent of Z and Z is a parent of Y\n",
        "prolog.assertz(\"grandparent(X, Y) :- parent(X, Z), parent(Z, Y)\")\n",
        "\n",
        "# Mother rule: X is the mother of Y if X is a parent of Y and X is female\n",
        "prolog.assertz(\"mother(X, Y) :- parent(X, Y), female(X)\")\n",
        "\n",
        "# Father rule: X is the father of Y if X is a parent of Y and X is male\n",
        "prolog.assertz(\"father(X, Y) :- parent(X, Y), male(X)\")\n",
        "\n",
        "# Grandmother rule: X is the grandmother of Y if X is a female and a parent of Z, and Z is a parent of Y\n",
        "prolog.assertz(\"grandmother(X, Y) :- mother(X, Z), parent(Z, Y)\")\n",
        "\n",
        "# Grandfather rule: X is the grandfather of Y if X is a male and a parent of Z, and Z is a parent of Y\n",
        "prolog.assertz(\"grandfather(X, Y) :- father(X, Z), parent(Z, Y)\")"
      ],
      "metadata": {
        "id": "Job5U6QgK0X6"
      },
      "execution_count": null,
      "outputs": []
    },
    {
      "cell_type": "code",
      "source": [
        "# Use `setof/3` to ensure unique results in queries\n",
        "\n",
        "# Query 1: Find Sarah's siblings\n",
        "print(\"Sarah's siblings:\")\n",
        "siblings = list(prolog.query(\"setof(Sibling, sibling(sarah, Sibling), SiblingList)\"))\n",
        "if siblings:\n",
        "    for sibling in siblings[0]['SiblingList']:\n",
        "        print(sibling)\n"
      ],
      "metadata": {
        "colab": {
          "base_uri": "https://localhost:8080/"
        },
        "id": "km347idUK-JM",
        "outputId": "91b63faa-2330-41e2-d4d0-9cdd31cabb1c",
        "collapsed": true
      },
      "execution_count": 21,
      "outputs": [
        {
          "output_type": "stream",
          "name": "stdout",
          "text": [
            "Sarah's siblings:\n",
            "tom\n"
          ]
        }
      ]
    },
    {
      "cell_type": "code",
      "source": [
        "# Query 2: Find Kate's grandparents\n",
        "print(\"\\nKate's grandparents:\")\n",
        "grandparents = list(prolog.query(\"setof(Grandparent, grandparent(Grandparent, kate), GrandparentList)\"))\n",
        "if grandparents:\n",
        "    for grandparent in grandparents[0]['GrandparentList']:\n",
        "        print(grandparent)"
      ],
      "metadata": {
        "colab": {
          "base_uri": "https://localhost:8080/"
        },
        "collapsed": true,
        "id": "kJ7ZB-LJrfFO",
        "outputId": "ee1449e4-eb54-489c-8adf-21f6b4f09846"
      },
      "execution_count": 22,
      "outputs": [
        {
          "output_type": "stream",
          "name": "stdout",
          "text": [
            "\n",
            "Kate's grandparents:\n",
            "john\n",
            "mary\n"
          ]
        }
      ]
    },
    {
      "cell_type": "code",
      "source": [
        "# Query 3: Find Tom's children\n",
        "print(\"\\nTom's children:\")\n",
        "children = list(prolog.query(\"setof(Child, parent(tom, Child), ChildList)\"))\n",
        "if children:\n",
        "    for child in children[0]['ChildList']:\n",
        "        print(child)\n"
      ],
      "metadata": {
        "colab": {
          "base_uri": "https://localhost:8080/"
        },
        "collapsed": true,
        "id": "aMudVohHrtat",
        "outputId": "d8f7077f-fce2-4e17-99ee-fd6890cf2217"
      },
      "execution_count": 23,
      "outputs": [
        {
          "output_type": "stream",
          "name": "stdout",
          "text": [
            "\n",
            "Tom's children:\n",
            "lily\n"
          ]
        }
      ]
    },
    {
      "cell_type": "code",
      "source": [
        "# Query 4: Find who is Kate's mother\n",
        "print(\"\\nKate's mother:\")\n",
        "for result in prolog.query(\"mother(Mother, kate)\"):\n",
        "    print(result['Mother'])\n"
      ],
      "metadata": {
        "colab": {
          "base_uri": "https://localhost:8080/"
        },
        "collapsed": true,
        "id": "c0ULjDoorx0O",
        "outputId": "b804cac1-c2be-487e-b357-3d79cf694815"
      },
      "execution_count": 24,
      "outputs": [
        {
          "output_type": "stream",
          "name": "stdout",
          "text": [
            "\n",
            "Kate's mother:\n",
            "sarah\n",
            "sarah\n"
          ]
        }
      ]
    },
    {
      "cell_type": "code",
      "source": [
        "# Query 5: Find who is Kate's father\n",
        "print(\"\\nKate's father:\")\n",
        "for result in prolog.query(\"father(Father, kate)\"):\n",
        "    print(result['Father'])"
      ],
      "metadata": {
        "colab": {
          "base_uri": "https://localhost:8080/"
        },
        "collapsed": true,
        "id": "QqE_odnjr2Ry",
        "outputId": "b0eb8bac-ffa2-4360-9940-b1877bce467f"
      },
      "execution_count": 25,
      "outputs": [
        {
          "output_type": "stream",
          "name": "stdout",
          "text": [
            "\n",
            "Kate's father:\n"
          ]
        }
      ]
    },
    {
      "cell_type": "code",
      "source": [
        "# Query 6: Find who is Kate's grandmother\n",
        "print(\"\\nKate's grandmother:\")\n",
        "grandmothers = list(prolog.query(\"setof(Grandmother, grandmother(Grandmother, kate), GrandmotherList)\"))\n",
        "if grandmothers:\n",
        "    for grandmother in grandmothers[0]['GrandmotherList']:\n",
        "        print(grandmother)\n"
      ],
      "metadata": {
        "colab": {
          "base_uri": "https://localhost:8080/"
        },
        "id": "AqdFu292r75p",
        "outputId": "437a4932-9392-4e0d-f8c8-a35fde35f72a"
      },
      "execution_count": 26,
      "outputs": [
        {
          "output_type": "stream",
          "name": "stdout",
          "text": [
            "\n",
            "Kate's grandmother:\n",
            "mary\n"
          ]
        }
      ]
    },
    {
      "cell_type": "code",
      "source": [
        "# Query 7: Find who is Kate's grandfather\n",
        "print(\"\\nKate's grandfather:\")\n",
        "grandfathers = list(prolog.query(\"setof(Grandfather, grandfather(Grandfather, kate), GrandfatherList)\"))\n",
        "if grandfathers:\n",
        "    for grandfather in grandfathers[0]['GrandfatherList']:\n",
        "        print(grandfather)"
      ],
      "metadata": {
        "colab": {
          "base_uri": "https://localhost:8080/"
        },
        "id": "cEwTooU4r-MC",
        "outputId": "edb67a72-00f7-4380-cba8-c3331ff7bc31"
      },
      "execution_count": 27,
      "outputs": [
        {
          "output_type": "stream",
          "name": "stdout",
          "text": [
            "\n",
            "Kate's grandfather:\n",
            "john\n"
          ]
        }
      ]
    }
  ]
}