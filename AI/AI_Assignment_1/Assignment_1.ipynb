{
  "cells": [
    {
      "cell_type": "markdown",
      "source": [
        "# **BFS** **Approach**"
      ],
      "metadata": {
        "id": "R6OmsTlAymT5"
      }
    },
    {
      "cell_type": "code",
      "source": [
        "import numpy as np\n",
        "\n",
        "def bfs(src, target):\n",
        "    queue = []          #nodes to be explored\n",
        "    queue.append(src)\n",
        "\n",
        "    exp = []            #nodes already explored\n",
        "\n",
        "    while len(queue) > 0:\n",
        "        source = queue.pop(0)\n",
        "        exp.append(source)\n",
        "\n",
        "        print_puzzle(source)\n",
        "\n",
        "        if source == target:\n",
        "            print()\n",
        "            print(\"Success! Goal state achieved!\")\n",
        "            return\n",
        "\n",
        "        #If direction is possible then add state to move\n",
        "        poss_moves_to_do = possible_moves(source, exp)\n",
        "\n",
        "        for move in poss_moves_to_do:\n",
        "            if move not in exp and move not in queue:\n",
        "                queue.append(move)"
      ],
      "metadata": {
        "id": "NpdMWLf-oXoS"
      },
      "execution_count": null,
      "outputs": []
    },
    {
      "cell_type": "code",
      "source": [
        "def possible_moves(state, visited_states):\n",
        "    b = state.index(0)       #index of empty tile\n",
        "    d = []                   #directions array\n",
        "\n",
        "    if b not in [0, 1, 2]:\n",
        "        d.append('u')\n",
        "    if b not in [6, 7, 8]:\n",
        "        d.append('d')\n",
        "    if b not in [0, 3, 6]:\n",
        "        d.append('l')\n",
        "    if b not in [2, 5, 8]:\n",
        "        d.append('r')\n",
        "\n",
        "    pos_moves_it_can = []\n",
        "\n",
        "    # For all possible directions, find the state if that move is played\n",
        "    for i in d:\n",
        "        pos_moves_it_can.append(gen(state, i, b))\n",
        "\n",
        "    return [move_it_can for move_it_can in pos_moves_it_can if move_it_can not in visited_states]"
      ],
      "metadata": {
        "id": "iTc6SgWPoZNL"
      },
      "execution_count": null,
      "outputs": []
    },
    {
      "cell_type": "code",
      "source": [
        "def gen(state, m, b):\n",
        "    temp = state.copy()\n",
        "\n",
        "    if m == 'd':\n",
        "        temp[b+3], temp[b] = temp[b], temp[b+3]\n",
        "\n",
        "    if m == 'u':\n",
        "        temp[b-3], temp[b] = temp[b], temp[b-3]\n",
        "\n",
        "    if m == 'l':\n",
        "        temp[b-1], temp[b] = temp[b], temp[b-1]\n",
        "\n",
        "    if m == 'r':\n",
        "        temp[b+1], temp[b] = temp[b], temp[b+1]\n",
        "\n",
        "    return temp"
      ],
      "metadata": {
        "id": "WulwWqpToeK-"
      },
      "execution_count": null,
      "outputs": []
    },
    {
      "cell_type": "code",
      "source": [
        "def print_puzzle(state):\n",
        "    print(np.array(state).reshape(3, 3))\n",
        "    print()\n",
        "\n",
        "src = [1, 2, 3, 4, 5, 6, 0, 7, 8]\n",
        "target = [1, 2, 3, 4, 5, 6, 7, 8, 0]\n",
        "\n",
        "print(\"Initial state: \")\n",
        "print_puzzle(src)       #initial state\n",
        "print()\n",
        "\n",
        "print(\"Goal state: \")\n",
        "print_puzzle(target)    #goal state\n",
        "print()\n",
        "\n",
        "print(\"BFS solution:\")\n",
        "bfs(src, target)"
      ],
      "metadata": {
        "colab": {
          "base_uri": "https://localhost:8080/"
        },
        "id": "_UX1SxQSoh7Y",
        "outputId": "c097c425-d0b1-4345-b49d-c86a2bca7dbd"
      },
      "execution_count": null,
      "outputs": [
        {
          "output_type": "stream",
          "name": "stdout",
          "text": [
            "Initial state: \n",
            "[[1 2 3]\n",
            " [4 5 6]\n",
            " [0 7 8]]\n",
            "\n",
            "\n",
            "Goal state: \n",
            "[[1 2 3]\n",
            " [4 5 6]\n",
            " [7 8 0]]\n",
            "\n",
            "\n",
            "BFS solution:\n",
            "[[1 2 3]\n",
            " [4 5 6]\n",
            " [0 7 8]]\n",
            "\n",
            "[[1 2 3]\n",
            " [0 5 6]\n",
            " [4 7 8]]\n",
            "\n",
            "[[1 2 3]\n",
            " [4 5 6]\n",
            " [7 0 8]]\n",
            "\n",
            "[[0 2 3]\n",
            " [1 5 6]\n",
            " [4 7 8]]\n",
            "\n",
            "[[1 2 3]\n",
            " [5 0 6]\n",
            " [4 7 8]]\n",
            "\n",
            "[[1 2 3]\n",
            " [4 0 6]\n",
            " [7 5 8]]\n",
            "\n",
            "[[1 2 3]\n",
            " [4 5 6]\n",
            " [7 8 0]]\n",
            "\n",
            "\n",
            "Success! Goal state achieved!\n"
          ]
        }
      ]
    },
    {
      "cell_type": "markdown",
      "source": [
        "# **DFS** **Approach**"
      ],
      "metadata": {
        "id": "HnMI3Ww0ytq1"
      }
    },
    {
      "cell_type": "code",
      "source": [
        "import numpy as np\n",
        "\n",
        "def dfs(src, target):\n",
        "    stack = []          #nodes to be explored\n",
        "    stack.append(src)\n",
        "\n",
        "    exp = []            #explored nodes\n",
        "\n",
        "    while len(stack) > 0:\n",
        "        source = stack.pop()\n",
        "        exp.append(source)\n",
        "\n",
        "        print_puzzle(source)\n",
        "\n",
        "        if source == target:\n",
        "            print()\n",
        "            print(\"Success! Goal state achieved!\")\n",
        "            return\n",
        "\n",
        "        # If direction is possible then add state to move\n",
        "        poss_moves_to_do = possible_moves(source, exp)\n",
        "\n",
        "        for move in poss_moves_to_do:\n",
        "            if move not in exp and move not in stack:\n",
        "                stack.append(move)"
      ],
      "metadata": {
        "id": "scmv2mZjx9rN"
      },
      "execution_count": null,
      "outputs": []
    },
    {
      "cell_type": "code",
      "source": [
        "def possible_moves(state, visited_states):\n",
        "    b = state.index(0)     #index of empty tile\n",
        "    d = []                 #directions array\n",
        "\n",
        "    if b not in [0, 1, 2]:                  # [0  1  2]\n",
        "        d.append('u')                       # [3  4  5]\n",
        "    if b not in [6, 7, 8]:                  # [6  7  8]\n",
        "        d.append('d')\n",
        "    if b not in [0, 3, 6]:\n",
        "        d.append('l')\n",
        "    if b not in [2, 5, 8]:\n",
        "        d.append('r')\n",
        "\n",
        "    pos_moves_it_can = []\n",
        "\n",
        "    # For all possible directions, the state if that move is played\n",
        "    for i in d:\n",
        "        pos_moves_it_can.append(gen(state, i, b))\n",
        "\n",
        "    return [move_it_can for move_it_can in pos_moves_it_can if move_it_can not in visited_states]"
      ],
      "metadata": {
        "id": "KDmgF1Xvx_a_"
      },
      "execution_count": null,
      "outputs": []
    },
    {
      "cell_type": "code",
      "source": [
        "def gen(state, m, b):\n",
        "    temp = state.copy()\n",
        "\n",
        "    if m == 'd':\n",
        "        temp[b+3], temp[b] = temp[b], temp[b+3]\n",
        "\n",
        "    if m == 'u':\n",
        "        temp[b-3], temp[b] = temp[b], temp[b-3]\n",
        "\n",
        "    if m == 'l':\n",
        "        temp[b-1], temp[b] = temp[b], temp[b-1]\n",
        "\n",
        "    if m == 'r':\n",
        "        temp[b+1], temp[b] = temp[b], temp[b+1]\n",
        "\n",
        "    return temp"
      ],
      "metadata": {
        "id": "tS1Qzw5SyJKe"
      },
      "execution_count": null,
      "outputs": []
    },
    {
      "cell_type": "code",
      "source": [
        "def print_puzzle(state):\n",
        "    print(np.array(state).reshape(3, 3))\n",
        "    print()\n",
        "\n",
        "src = [1, 2, 3, 4, 5, 6, 0, 7, 8]     #initial state\n",
        "target = [1, 2, 3, 4, 5, 6, 7, 8, 0]  #goal state\n",
        "\n",
        "print(\"Initial state: \")\n",
        "print_puzzle(src)       #initial state\n",
        "print()\n",
        "\n",
        "print(\"Goal state: \")\n",
        "print_puzzle(target)    #goal state\n",
        "print()\n",
        "\n",
        "print(\"DFS solution:\")\n",
        "dfs(src, target)"
      ],
      "metadata": {
        "colab": {
          "base_uri": "https://localhost:8080/"
        },
        "id": "fVTBfU66yK_H",
        "outputId": "9a908d99-03f6-41a1-fd13-6b8112b8ac41"
      },
      "execution_count": null,
      "outputs": [
        {
          "output_type": "stream",
          "name": "stdout",
          "text": [
            "Initial state: \n",
            "[[1 2 3]\n",
            " [4 5 6]\n",
            " [0 7 8]]\n",
            "\n",
            "\n",
            "Goal state: \n",
            "[[1 2 3]\n",
            " [4 5 6]\n",
            " [7 8 0]]\n",
            "\n",
            "\n",
            "DFS solution:\n",
            "[[1 2 3]\n",
            " [4 5 6]\n",
            " [0 7 8]]\n",
            "\n",
            "[[1 2 3]\n",
            " [4 5 6]\n",
            " [7 0 8]]\n",
            "\n",
            "[[1 2 3]\n",
            " [4 5 6]\n",
            " [7 8 0]]\n",
            "\n",
            "\n",
            "Success! Goal state achieved!\n"
          ]
        }
      ]
    }
  ],
  "metadata": {
    "colab": {
      "provenance": []
    },
    "kernelspec": {
      "display_name": "Python 3",
      "name": "python3"
    },
    "language_info": {
      "name": "python"
    }
  },
  "nbformat": 4,
  "nbformat_minor": 0
}